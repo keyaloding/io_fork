{
 "cells": [
  {
   "cell_type": "code",
   "execution_count": 21,
   "metadata": {},
   "outputs": [
    {
     "name": "stdout",
     "output_type": "stream",
     "text": [
      "The autoreload extension is already loaded. To reload it, use:\n",
      "  %reload_ext autoreload\n"
     ]
    }
   ],
   "source": [
    "%load_ext autoreload\n",
    "%autoreload 2\n",
    "import sleap_io as sio\n",
    "from sleap_io.io.nwb import *\n",
    "from pynwb import NWBHDF5IO"
   ]
  },
  {
   "cell_type": "code",
   "execution_count": 25,
   "metadata": {},
   "outputs": [],
   "source": [
    "labels = sio.load_slp(\"tests/data/slp/minimal_instance.pkg.slp\")\n",
    "skeletons_list = [slp_skeleton_to_nwb(skeleton) for skeleton in labels.skeletons]\n",
    "video_info = write_video_to_path(labels.video, None)\n",
    "pose_training = labels_to_pose_training(labels, skeletons_list=skeletons_list, video_info=video_info)\n",
    "labels_converted = pose_training_to_labels(pose_training)\n",
    "\n",
    "assert len(labels.labeled_frames) == len(labels_converted.labeled_frames)\n",
    "assert len(labels.skeletons) == len(labels_converted.skeletons)\n",
    "assert len(labels.videos) == len(labels_converted.videos)"
   ]
  },
  {
   "cell_type": "code",
   "execution_count": 48,
   "metadata": {},
   "outputs": [
    {
     "name": "stderr",
     "output_type": "stream",
     "text": [
      "/Users/keya/mambaforge3/envs/io_dev/lib/python3.12/site-packages/hdmf/build/objectmapper.py:260: DtypeConversionWarning: Spec 'PoseEstimation/dimensions': Value with data type int64 is being converted to data type uint64 (min specification: uint8).\n",
      "  warnings.warn(full_warning_msg, DtypeConversionWarning)\n"
     ]
    },
    {
     "name": "stdout",
     "output_type": "stream",
     "text": [
      "SLEAP_VIDEO_000_minimal_instance.pkg pynwb.base.ProcessingModule at 0x6427976352\n",
      "Fields:\n",
      "  data_interfaces: {\n",
      "    PoseEstimation <class 'ndx_pose.pose.PoseEstimation'>,\n",
      "    PoseTraining <class 'abc.PoseTraining'>,\n",
      "    Skeletons <class 'abc.Skeletons'>\n",
      "  }\n",
      "  description: Processed SLEAP data\n",
      "\n"
     ]
    }
   ],
   "source": [
    "nwb = write_nwb(labels, \"test_file.nwb\", as_training=True, frame_inds=None)\n",
    "from sleap_io.io.main import load_nwb\n",
    "labels_new = read_nwb_training(\"test_file.nwb\")\n",
    "assert len(labels.labeled_frames) == len(labels_new.labeled_frames)\n",
    "assert len(labels.skeletons) == len(labels_new.skeletons)"
   ]
  },
  {
   "cell_type": "code",
   "execution_count": 47,
   "metadata": {},
   "outputs": [
    {
     "name": "stdout",
     "output_type": "stream",
     "text": [
      "root pynwb.file.NWBFile at 0x6435822944\n",
      "Fields:\n",
      "  devices: {\n",
      "    camera <class 'pynwb.device.Device'>\n",
      "  }\n",
      "  file_create_date: [datetime.datetime(2024, 8, 2, 14, 55, 51, 189600, tzinfo=tzoffset(None, -25200))]\n",
      "  identifier: fbc61ca2-5119-11ef-a15d-eee9744406f7\n",
      "  processing: {\n",
      "    SLEAP_VIDEO_000_minimal_instance.pkg <class 'pynwb.base.ProcessingModule'>\n",
      "  }\n",
      "  session_description: Processed SLEAP pose data\n",
      "  session_start_time: 2024-08-02 21:55:51.186802+00:00\n",
      "  subject: subject pynwb.file.Subject at 0x6435821360\n",
      "Fields:\n",
      "  age__reference: birth\n",
      "  species: No specified species\n",
      "  subject_id: No specified id\n",
      "\n",
      "  timestamps_reference_time: 2024-08-02 21:55:51.186802+00:00\n",
      "\n"
     ]
    }
   ],
   "source": [
    "with NWBHDF5IO(\"test_file.nwb\", \"r\") as nwb_file:\n",
    "    nwb = nwb_file.read()\n",
    "    print(nwb)"
   ]
  },
  {
   "cell_type": "code",
   "execution_count": 60,
   "metadata": {},
   "outputs": [
    {
     "name": "stderr",
     "output_type": "stream",
     "text": [
      "/Users/keya/mambaforge3/envs/io_dev/lib/python3.12/site-packages/hdmf/build/objectmapper.py:260: DtypeConversionWarning: Spec 'PoseEstimation/dimensions': Value with data type int64 is being converted to data type uint64 (min specification: uint8).\n",
      "  warnings.warn(full_warning_msg, DtypeConversionWarning)\n"
     ]
    }
   ],
   "source": [
    "labels_original = sio.load_slp(\"tests/data/slp/minimal_instance.pkg.slp\")\n",
    "labels_original.save(\"tests/data/slp/minimal_instance.pkg.nwb\", format=\"nwb_training\")\n"
   ]
  },
  {
   "cell_type": "code",
   "execution_count": 63,
   "metadata": {},
   "outputs": [
    {
     "name": "stdout",
     "output_type": "stream",
     "text": [
      "SLEAP_VIDEO_000_minimal_instance.pkg pynwb.base.ProcessingModule at 0x12898282592\n",
      "Fields:\n",
      "  data_interfaces: {\n",
      "    PoseEstimation <class 'ndx_pose.pose.PoseEstimation'>,\n",
      "    PoseTraining <class 'abc.PoseTraining'>,\n",
      "    Skeletons <class 'abc.Skeletons'>\n",
      "  }\n",
      "  description: Processed SLEAP data\n",
      "\n",
      "Labels(labeled_frames=1, videos=1, skeletons=1, tracks=0, suggestions=0)\n"
     ]
    },
    {
     "ename": "AttributeError",
     "evalue": "'Labels' object has no attribute 'training_frames'",
     "output_type": "error",
     "traceback": [
      "\u001b[0;31m---------------------------------------------------------------------------\u001b[0m",
      "\u001b[0;31mAttributeError\u001b[0m                            Traceback (most recent call last)",
      "Cell \u001b[0;32mIn[63], line 4\u001b[0m\n\u001b[1;32m      1\u001b[0m pose_training \u001b[38;5;241m=\u001b[39m read_nwb_training(\u001b[38;5;124m\"\u001b[39m\u001b[38;5;124mtests/data/nwb/minimal_instance.pkg.nwb\u001b[39m\u001b[38;5;124m\"\u001b[39m)\n\u001b[1;32m      2\u001b[0m \u001b[38;5;28mprint\u001b[39m(pose_training)\n\u001b[0;32m----> 4\u001b[0m lables2 \u001b[38;5;241m=\u001b[39m \u001b[43mpose_training_to_labels\u001b[49m\u001b[43m(\u001b[49m\u001b[43mpose_training\u001b[49m\u001b[43m)\u001b[49m\n\u001b[1;32m      5\u001b[0m \u001b[38;5;28mprint\u001b[39m(lables2)\n",
      "File \u001b[0;32m~/salk/io_fork/sleap_io/io/nwb.py:68\u001b[0m, in \u001b[0;36mpose_training_to_labels\u001b[0;34m(pose_training)\u001b[0m\n\u001b[1;32m     66\u001b[0m labeled_frames \u001b[38;5;241m=\u001b[39m []\n\u001b[1;32m     67\u001b[0m skeletons \u001b[38;5;241m=\u001b[39m {}\n\u001b[0;32m---> 68\u001b[0m \u001b[38;5;28;01mfor\u001b[39;00m training_frame \u001b[38;5;129;01min\u001b[39;00m \u001b[43mpose_training\u001b[49m\u001b[38;5;241;43m.\u001b[39;49m\u001b[43mtraining_frames\u001b[49m\u001b[38;5;241m.\u001b[39mtraining_frames\u001b[38;5;241m.\u001b[39mvalues():\n\u001b[1;32m     69\u001b[0m     source_video \u001b[38;5;241m=\u001b[39m training_frame\u001b[38;5;241m.\u001b[39msource_video\n\u001b[1;32m     70\u001b[0m     \u001b[38;5;28;01mif\u001b[39;00m source_video\u001b[38;5;241m.\u001b[39mformat \u001b[38;5;241m==\u001b[39m \u001b[38;5;124m\"\u001b[39m\u001b[38;5;124mexternal\u001b[39m\u001b[38;5;124m\"\u001b[39m \u001b[38;5;129;01mand\u001b[39;00m \u001b[38;5;28mlen\u001b[39m(source_video\u001b[38;5;241m.\u001b[39mexternal_file) \u001b[38;5;241m==\u001b[39m \u001b[38;5;241m1\u001b[39m:\n",
      "\u001b[0;31mAttributeError\u001b[0m: 'Labels' object has no attribute 'training_frames'"
     ]
    }
   ],
   "source": [
    "labels2 = read_nwb_training(\"tests/data/nwb/minimal_instance.pkg.nwb\")\n",
    "print(labels2)"
   ]
  }
 ],
 "metadata": {
  "kernelspec": {
   "display_name": "io_dev",
   "language": "python",
   "name": "python3"
  },
  "language_info": {
   "codemirror_mode": {
    "name": "ipython",
    "version": 3
   },
   "file_extension": ".py",
   "mimetype": "text/x-python",
   "name": "python",
   "nbconvert_exporter": "python",
   "pygments_lexer": "ipython3",
   "version": "3.12.4"
  }
 },
 "nbformat": 4,
 "nbformat_minor": 2
}
