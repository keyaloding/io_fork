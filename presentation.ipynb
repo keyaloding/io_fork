{
 "cells": [
  {
   "cell_type": "code",
   "execution_count": 1,
   "metadata": {},
   "outputs": [],
   "source": [
    "%load_ext autoreload\n",
    "%autoreload 2\n",
    "\n",
    "import sleap_io as sio"
   ]
  },
  {
   "cell_type": "code",
   "execution_count": 5,
   "metadata": {},
   "outputs": [
    {
     "name": "stderr",
     "output_type": "stream",
     "text": [
      "No accelerated colorspace conversion found from yuv420p to bgr24.\n",
      "OpenCV: Couldn't read video stream from file \"/Users/talmo/sleap-io/tests/data/videos/centered_pair_low_quality.mp4\"\n",
      "/Users/keya/mambaforge3/envs/io_dev/lib/python3.12/site-packages/hdmf/build/objectmapper.py:260: DtypeConversionWarning:\n",
      "\n",
      "Spec 'PoseEstimation/dimensions': Value with data type int64 is being converted to data type uint64 (min specification: uint8).\n",
      "\n"
     ]
    }
   ],
   "source": [
    "labels = sio.load_slp(\"tests/data/slp/labels.v002.slp\")\n",
    "frame_inds = [i for i in range(100)]\n",
    "labels.save(\"tests/data/nwb/labels.v002.nwb\", format=\"nwb_training\", frame_inds=frame_inds)"
   ]
  },
  {
   "cell_type": "code",
   "execution_count": 6,
   "metadata": {},
   "outputs": [
    {
     "data": {
      "application/vnd.jupyter.widget-view+json": {
       "model_id": "de3d3c24944747738cd64cd1e6724271",
       "version_major": 2,
       "version_minor": 0
      },
      "text/plain": [
       "VBox(children=(HBox(children=(Label(value='session_description:', layout=Layout(max_height='40px', max_width='…"
      ]
     },
     "execution_count": 6,
     "metadata": {},
     "output_type": "execute_result"
    },
    {
     "name": "stdout",
     "output_type": "stream",
     "text": [
      "<HDF5 dataset \"edges\": shape (1, 2), type \"|u1\">\n",
      "<HDF5 dataset \"node_locations\": shape (2, 2), type \"<f8\">\n",
      "<HDF5 dataset \"edges\": shape (1, 2), type \"|u1\">\n"
     ]
    }
   ],
   "source": [
    "from pynwb import NWBHDF5IO\n",
    "from nwbwidgets import nwb2widget\n",
    "io = NWBHDF5IO(\"tests/data/nwb/labels.v002.nwb\", mode='r')\n",
    "nwb = io.read()\n",
    "nwb2widget(nwb)"
   ]
  }
 ],
 "metadata": {
  "language_info": {
   "name": "python"
  }
 },
 "nbformat": 4,
 "nbformat_minor": 2
}
